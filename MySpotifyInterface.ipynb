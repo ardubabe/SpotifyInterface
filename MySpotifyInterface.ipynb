{
 "cells": [
  {
   "cell_type": "code",
   "execution_count": 1,
   "id": "314e6397",
   "metadata": {},
   "outputs": [],
   "source": [
    "import spotipy\n",
    "import json\n",
    "import webbrowser\n",
    "import urllib.request\n",
    "import spotipy.util as util"
   ]
  },
  {
   "cell_type": "code",
   "execution_count": 2,
   "id": "6e74cccb",
   "metadata": {},
   "outputs": [],
   "source": [
    "# copy and paste the url into your browser to see what data you are getting back\n",
    "request = urllib.request.Request(\"https://weatherdbi.herokuapp.com/data/weather/toyoko\")\n",
    "response = urllib.request.urlopen(request)"
   ]
  },
  {
   "cell_type": "code",
   "execution_count": 3,
   "id": "21664d13",
   "metadata": {},
   "outputs": [],
   "source": [
    "weather = json.loads(response.read())"
   ]
  },
  {
   "cell_type": "code",
   "execution_count": 4,
   "id": "fe653ac1",
   "metadata": {},
   "outputs": [
    {
     "name": "stdout",
     "output_type": "stream",
     "text": [
      "{'region': 'Tokyo, Japan', 'currentConditions': {'dayhour': 'Thursday 12:00 AM', 'temp': {'c': 12, 'f': 53}, 'precip': '40%', 'humidity': '92%', 'wind': {'km': 10, 'mile': 6}, 'iconURL': 'https://ssl.gstatic.com/onebox/weather/64/sunny.png', 'comment': 'Clear'}, 'next_days': [{'day': 'Thursday', 'comment': 'Clear with periodic clouds', 'max_temp': {'c': 21, 'f': 70}, 'min_temp': {'c': 11, 'f': 52}, 'iconURL': 'https://ssl.gstatic.com/onebox/weather/48/sunny_s_cloudy.png'}, {'day': 'Friday', 'comment': 'Clear with periodic clouds', 'max_temp': {'c': 18, 'f': 64}, 'min_temp': {'c': 11, 'f': 52}, 'iconURL': 'https://ssl.gstatic.com/onebox/weather/48/sunny_s_cloudy.png'}, {'day': 'Saturday', 'comment': 'Cloudy with brief rain', 'max_temp': {'c': 16, 'f': 61}, 'min_temp': {'c': 9, 'f': 48}, 'iconURL': 'https://ssl.gstatic.com/onebox/weather/48/cloudy_s_rain.png'}, {'day': 'Sunday', 'comment': 'Clear with periodic clouds', 'max_temp': {'c': 16, 'f': 61}, 'min_temp': {'c': 9, 'f': 48}, 'iconURL': 'https://ssl.gstatic.com/onebox/weather/48/sunny_s_cloudy.png'}, {'day': 'Monday', 'comment': 'Cloudy', 'max_temp': {'c': 14, 'f': 57}, 'min_temp': {'c': 8, 'f': 46}, 'iconURL': 'https://ssl.gstatic.com/onebox/weather/48/cloudy.png'}, {'day': 'Tuesday', 'comment': 'Cloudy', 'max_temp': {'c': 19, 'f': 66}, 'min_temp': {'c': 9, 'f': 48}, 'iconURL': 'https://ssl.gstatic.com/onebox/weather/48/cloudy.png'}, {'day': 'Wednesday', 'comment': 'Cloudy with brief rain', 'max_temp': {'c': 22, 'f': 72}, 'min_temp': {'c': 13, 'f': 55}, 'iconURL': 'https://ssl.gstatic.com/onebox/weather/48/cloudy_s_rain.png'}, {'day': 'Thursday', 'comment': 'Cloudy periodically clear', 'max_temp': {'c': 14, 'f': 57}, 'min_temp': {'c': 7, 'f': 45}, 'iconURL': 'https://ssl.gstatic.com/onebox/weather/48/cloudy_s_sunny.png'}], 'contact_author': {'email': 'communication.with.users@gmail.com', 'auth_note': 'Mail me for feature requests, improvement, bug, help, ect... Please tell me if you want me to provide any other free easy-to-use API services'}, 'data_source': 'https://www.google.com/search?lr=lang_en&q=weather+in+toyoko'}\n"
     ]
    }
   ],
   "source": [
    "print(weather)"
   ]
  },
  {
   "cell_type": "code",
   "execution_count": 7,
   "id": "f69a3bd2",
   "metadata": {},
   "outputs": [
    {
     "data": {
      "text/plain": [
       "'Clear'"
      ]
     },
     "execution_count": 7,
     "metadata": {},
     "output_type": "execute_result"
    }
   ],
   "source": [
    "forecast = weather['currentConditions']['comment']\n",
    "forecast"
   ]
  },
  {
   "cell_type": "code",
   "execution_count": 8,
   "id": "4335fbda",
   "metadata": {},
   "outputs": [],
   "source": [
    "# open file with keys and set the path to your credentials JSON file\n",
    "credentials = \"spotify_keys.json\"\n",
    "with open(credentials, \"r\") as keys:\n",
    "    api_tokens = json.load(keys)"
   ]
  },
  {
   "cell_type": "code",
   "execution_count": 9,
   "id": "8dfcfb79",
   "metadata": {},
   "outputs": [],
   "source": [
    "# read the keys and assign each to a variable\n",
    "# A redirect URI, or reply URL, is the location where the authorization server sends the user once the app has been \n",
    "# successfully authorized and granted an authorization code or access token.\n",
    "client_id = api_tokens[\"client_id\"]\n",
    "client_secret = api_tokens[\"client_secret\"]\n",
    "redirectURI = api_tokens[\"redirect\"]\n",
    "username = api_tokens[\"username\"]"
   ]
  },
  {
   "cell_type": "code",
   "execution_count": null,
   "id": "a92fed79",
   "metadata": {},
   "outputs": [],
   "source": []
  }
 ],
 "metadata": {
  "kernelspec": {
   "display_name": "Python 3 (ipykernel)",
   "language": "python",
   "name": "python3"
  },
  "language_info": {
   "codemirror_mode": {
    "name": "ipython",
    "version": 3
   },
   "file_extension": ".py",
   "mimetype": "text/x-python",
   "name": "python",
   "nbconvert_exporter": "python",
   "pygments_lexer": "ipython3",
   "version": "3.11.0"
  }
 },
 "nbformat": 4,
 "nbformat_minor": 5
}
